{
 "cells": [
  {
   "cell_type": "code",
   "execution_count": 3,
   "id": "5e0e3b4b",
   "metadata": {},
   "outputs": [],
   "source": [
    "import pandas as pd\n",
    "E = 205 * 10**3\n",
    "\n",
    "data = []\n",
    "for l in range(1000, 8001,100):\n",
    "    for r in range(500, 1001,50):\n",
    "        for t in range(10, 51,5):\n",
    "            Pm = (0.92 * E * (t / r)**2) / (l / (r * t)**0.5 - 0.636)\n",
    "            data.append([l, r, t, Pm])\n",
    "\n",
    "df = pd.DataFrame(data, columns=['l', 'r', 't', 'Pm'])\n",
    "\n",
    "df.to_csv('output.csv', index=False)"
   ]
  },
  {
   "cell_type": "code",
   "execution_count": null,
   "id": "7b8636ee",
   "metadata": {},
   "outputs": [],
   "source": []
  }
 ],
 "metadata": {
  "kernelspec": {
   "display_name": "Python 3 (ipykernel)",
   "language": "python",
   "name": "python3"
  },
  "language_info": {
   "codemirror_mode": {
    "name": "ipython",
    "version": 3
   },
   "file_extension": ".py",
   "mimetype": "text/x-python",
   "name": "python",
   "nbconvert_exporter": "python",
   "pygments_lexer": "ipython3",
   "version": "3.9.12"
  }
 },
 "nbformat": 4,
 "nbformat_minor": 5
}
